{
 "cells": [
  {
   "cell_type": "code",
   "execution_count": 3,
   "id": "theoretical-father",
   "metadata": {},
   "outputs": [
    {
     "name": "stdout",
     "output_type": "stream",
     "text": [
      "Requirement already satisfied: textblob in /home/ec2-user/anaconda3/envs/python3/lib/python3.6/site-packages (0.15.3)\n",
      "Requirement already satisfied: nltk>=3.1 in /home/ec2-user/anaconda3/envs/python3/lib/python3.6/site-packages (from textblob) (3.4.5)\n",
      "Requirement already satisfied: six in /home/ec2-user/anaconda3/envs/python3/lib/python3.6/site-packages (from nltk>=3.1->textblob) (1.15.0)\n",
      "\u001b[33mWARNING: You are using pip version 20.3.3; however, version 21.0.1 is available.\n",
      "You should consider upgrading via the '/home/ec2-user/anaconda3/envs/python3/bin/python -m pip install --upgrade pip' command.\u001b[0m\n",
      "Note: you may need to restart the kernel to use updated packages.\n"
     ]
    }
   ],
   "source": [
    "pip install textblob"
   ]
  },
  {
   "cell_type": "code",
   "execution_count": 2,
   "id": "ethical-thomson",
   "metadata": {},
   "outputs": [
    {
     "name": "stdout",
     "output_type": "stream",
     "text": [
      "Requirement already satisfied: wordcloud in /home/ec2-user/anaconda3/envs/python3/lib/python3.6/site-packages (1.8.1)\n",
      "Requirement already satisfied: numpy>=1.6.1 in /home/ec2-user/anaconda3/envs/python3/lib/python3.6/site-packages (from wordcloud) (1.19.5)\n",
      "Requirement already satisfied: matplotlib in /home/ec2-user/anaconda3/envs/python3/lib/python3.6/site-packages (from wordcloud) (3.1.3)\n",
      "Requirement already satisfied: pillow in /home/ec2-user/anaconda3/envs/python3/lib/python3.6/site-packages (from wordcloud) (7.2.0)\n",
      "Requirement already satisfied: python-dateutil>=2.1 in /home/ec2-user/anaconda3/envs/python3/lib/python3.6/site-packages (from matplotlib->wordcloud) (2.8.1)\n",
      "Requirement already satisfied: kiwisolver>=1.0.1 in /home/ec2-user/anaconda3/envs/python3/lib/python3.6/site-packages (from matplotlib->wordcloud) (1.1.0)\n",
      "Requirement already satisfied: cycler>=0.10 in /home/ec2-user/anaconda3/envs/python3/lib/python3.6/site-packages (from matplotlib->wordcloud) (0.10.0)\n",
      "Requirement already satisfied: pyparsing!=2.0.4,!=2.1.2,!=2.1.6,>=2.0.1 in /home/ec2-user/anaconda3/envs/python3/lib/python3.6/site-packages (from matplotlib->wordcloud) (2.4.7)\n",
      "Requirement already satisfied: six in /home/ec2-user/anaconda3/envs/python3/lib/python3.6/site-packages (from cycler>=0.10->matplotlib->wordcloud) (1.15.0)\n",
      "Requirement already satisfied: setuptools in /home/ec2-user/anaconda3/envs/python3/lib/python3.6/site-packages (from kiwisolver>=1.0.1->matplotlib->wordcloud) (51.1.2)\n",
      "\u001b[33mWARNING: You are using pip version 20.3.3; however, version 21.0.1 is available.\n",
      "You should consider upgrading via the '/home/ec2-user/anaconda3/envs/python3/bin/python -m pip install --upgrade pip' command.\u001b[0m\n",
      "Note: you may need to restart the kernel to use updated packages.\n"
     ]
    }
   ],
   "source": [
    "pip install wordcloud"
   ]
  },
  {
   "cell_type": "markdown",
   "id": "careful-ballet",
   "metadata": {},
   "source": [
    "###  Importamos las librerias"
   ]
  },
  {
   "cell_type": "code",
   "execution_count": 22,
   "id": "democratic-structure",
   "metadata": {},
   "outputs": [],
   "source": [
    "import pandas as pd\n",
    "import matplotlib.pyplot as plt\n",
    "%matplotlib inline  \n",
    "import numpy as np\n",
    "import seaborn as sns\n",
    "\n",
    "\n"
   ]
  },
  {
   "cell_type": "markdown",
   "id": "metallic-bibliography",
   "metadata": {},
   "source": [
    "###  Leemos los datos csv guardados en los buckets"
   ]
  },
  {
   "cell_type": "code",
   "execution_count": 60,
   "id": "military-athens",
   "metadata": {},
   "outputs": [],
   "source": [
    "datoscampo = pd.read_csv(\"https://testutmdavidguemez.s3.amazonaws.com/datoscampo.csv\")"
   ]
  },
  {
   "cell_type": "code",
   "execution_count": 61,
   "id": "tropical-layer",
   "metadata": {},
   "outputs": [],
   "source": [
    "datostierra = pd.read_csv(\"https://testutmdavidguemez.s3.amazonaws.com/datostierra.csv\")"
   ]
  },
  {
   "cell_type": "markdown",
   "id": "marine-muslim",
   "metadata": {},
   "source": [
    "###  Quitamos la columna "
   ]
  },
  {
   "cell_type": "code",
   "execution_count": 25,
   "id": "fifteen-visiting",
   "metadata": {},
   "outputs": [],
   "source": [
    "columns = ['Unnamed: 0']\n",
    "datos_campo = pd.DataFrame(datoscampo.drop(columns,axis=1,inplace=False))"
   ]
  },
  {
   "cell_type": "code",
   "execution_count": 26,
   "id": "young-jewelry",
   "metadata": {},
   "outputs": [],
   "source": [
    "columns = ['Unnamed: 0']\n",
    "datos_tierra = pd.DataFrame(datostierra.drop(columns,axis=1,inplace=False))"
   ]
  },
  {
   "cell_type": "markdown",
   "id": "opposed-printing",
   "metadata": {},
   "source": [
    "###  Mostramos las tablas"
   ]
  },
  {
   "cell_type": "code",
   "execution_count": 27,
   "id": "oriented-anchor",
   "metadata": {},
   "outputs": [
    {
     "data": {
      "text/html": [
       "<div>\n",
       "<style scoped>\n",
       "    .dataframe tbody tr th:only-of-type {\n",
       "        vertical-align: middle;\n",
       "    }\n",
       "\n",
       "    .dataframe tbody tr th {\n",
       "        vertical-align: top;\n",
       "    }\n",
       "\n",
       "    .dataframe thead th {\n",
       "        text-align: right;\n",
       "    }\n",
       "</style>\n",
       "<table border=\"1\" class=\"dataframe\">\n",
       "  <thead>\n",
       "    <tr style=\"text-align: right;\">\n",
       "      <th></th>\n",
       "      <th>ID</th>\n",
       "      <th>Humedad</th>\n",
       "      <th>Temperatura</th>\n",
       "      <th>Aire</th>\n",
       "      <th>Fecha</th>\n",
       "    </tr>\n",
       "  </thead>\n",
       "  <tbody>\n",
       "    <tr>\n",
       "      <th>0</th>\n",
       "      <td>9</td>\n",
       "      <td>34.9</td>\n",
       "      <td>34.0</td>\n",
       "      <td>26.0</td>\n",
       "      <td>2021-01-18 08:34:24</td>\n",
       "    </tr>\n",
       "    <tr>\n",
       "      <th>1</th>\n",
       "      <td>10</td>\n",
       "      <td>35.7</td>\n",
       "      <td>22.0</td>\n",
       "      <td>44.0</td>\n",
       "      <td>2021-01-18 10:34:24</td>\n",
       "    </tr>\n",
       "    <tr>\n",
       "      <th>2</th>\n",
       "      <td>11</td>\n",
       "      <td>34.6</td>\n",
       "      <td>46.0</td>\n",
       "      <td>34.0</td>\n",
       "      <td>2021-01-18 12:34:24</td>\n",
       "    </tr>\n",
       "    <tr>\n",
       "      <th>3</th>\n",
       "      <td>12</td>\n",
       "      <td>35.4</td>\n",
       "      <td>43.0</td>\n",
       "      <td>54.0</td>\n",
       "      <td>2021-01-18 14:32:24</td>\n",
       "    </tr>\n",
       "    <tr>\n",
       "      <th>4</th>\n",
       "      <td>13</td>\n",
       "      <td>35.3</td>\n",
       "      <td>65.0</td>\n",
       "      <td>23.0</td>\n",
       "      <td>2021-01-18 16:34:24</td>\n",
       "    </tr>\n",
       "  </tbody>\n",
       "</table>\n",
       "</div>"
      ],
      "text/plain": [
       "   ID  Humedad  Temperatura  Aire                Fecha\n",
       "0   9     34.9         34.0  26.0  2021-01-18 08:34:24\n",
       "1  10     35.7         22.0  44.0  2021-01-18 10:34:24\n",
       "2  11     34.6         46.0  34.0  2021-01-18 12:34:24\n",
       "3  12     35.4         43.0  54.0  2021-01-18 14:32:24\n",
       "4  13     35.3         65.0  23.0  2021-01-18 16:34:24"
      ]
     },
     "execution_count": 27,
     "metadata": {},
     "output_type": "execute_result"
    }
   ],
   "source": [
    "datos_campo.head(5)"
   ]
  },
  {
   "cell_type": "code",
   "execution_count": 28,
   "id": "married-outside",
   "metadata": {},
   "outputs": [
    {
     "data": {
      "text/html": [
       "<div>\n",
       "<style scoped>\n",
       "    .dataframe tbody tr th:only-of-type {\n",
       "        vertical-align: middle;\n",
       "    }\n",
       "\n",
       "    .dataframe tbody tr th {\n",
       "        vertical-align: top;\n",
       "    }\n",
       "\n",
       "    .dataframe thead th {\n",
       "        text-align: right;\n",
       "    }\n",
       "</style>\n",
       "<table border=\"1\" class=\"dataframe\">\n",
       "  <thead>\n",
       "    <tr style=\"text-align: right;\">\n",
       "      <th></th>\n",
       "      <th>ID</th>\n",
       "      <th>Humedad</th>\n",
       "      <th>Fecha</th>\n",
       "    </tr>\n",
       "  </thead>\n",
       "  <tbody>\n",
       "    <tr>\n",
       "      <th>0</th>\n",
       "      <td>1</td>\n",
       "      <td>34.9</td>\n",
       "      <td>2021-01-18 08:34:24</td>\n",
       "    </tr>\n",
       "    <tr>\n",
       "      <th>1</th>\n",
       "      <td>2</td>\n",
       "      <td>50.2</td>\n",
       "      <td>2021-01-18 10:34:24</td>\n",
       "    </tr>\n",
       "    <tr>\n",
       "      <th>2</th>\n",
       "      <td>3</td>\n",
       "      <td>50.3</td>\n",
       "      <td>2021-01-18 12:34:24</td>\n",
       "    </tr>\n",
       "    <tr>\n",
       "      <th>3</th>\n",
       "      <td>4</td>\n",
       "      <td>50.1</td>\n",
       "      <td>2021-01-18 14:34:24</td>\n",
       "    </tr>\n",
       "    <tr>\n",
       "      <th>4</th>\n",
       "      <td>5</td>\n",
       "      <td>50.4</td>\n",
       "      <td>2021-01-18 16:34:24</td>\n",
       "    </tr>\n",
       "  </tbody>\n",
       "</table>\n",
       "</div>"
      ],
      "text/plain": [
       "   ID  Humedad                Fecha\n",
       "0   1     34.9  2021-01-18 08:34:24\n",
       "1   2     50.2  2021-01-18 10:34:24\n",
       "2   3     50.3  2021-01-18 12:34:24\n",
       "3   4     50.1  2021-01-18 14:34:24\n",
       "4   5     50.4  2021-01-18 16:34:24"
      ]
     },
     "execution_count": 28,
     "metadata": {},
     "output_type": "execute_result"
    }
   ],
   "source": [
    "datos_tierra.head(5)"
   ]
  },
  {
   "cell_type": "markdown",
   "id": "brief-organic",
   "metadata": {},
   "source": [
    "###  Mostramos informacion de las tablas de datos"
   ]
  },
  {
   "cell_type": "code",
   "execution_count": 29,
   "id": "charming-shanghai",
   "metadata": {},
   "outputs": [
    {
     "name": "stdout",
     "output_type": "stream",
     "text": [
      "<class 'pandas.core.frame.DataFrame'>\n",
      "RangeIndex: 42 entries, 0 to 41\n",
      "Data columns (total 5 columns):\n",
      " #   Column       Non-Null Count  Dtype  \n",
      "---  ------       --------------  -----  \n",
      " 0   ID           42 non-null     int64  \n",
      " 1   Humedad      42 non-null     float64\n",
      " 2   Temperatura  42 non-null     float64\n",
      " 3   Aire         42 non-null     float64\n",
      " 4   Fecha        42 non-null     object \n",
      "dtypes: float64(3), int64(1), object(1)\n",
      "memory usage: 1.8+ KB\n"
     ]
    }
   ],
   "source": [
    "datos_campo.info()"
   ]
  },
  {
   "cell_type": "code",
   "execution_count": 30,
   "id": "public-duration",
   "metadata": {},
   "outputs": [
    {
     "name": "stdout",
     "output_type": "stream",
     "text": [
      "<class 'pandas.core.frame.DataFrame'>\n",
      "RangeIndex: 42 entries, 0 to 41\n",
      "Data columns (total 3 columns):\n",
      " #   Column   Non-Null Count  Dtype  \n",
      "---  ------   --------------  -----  \n",
      " 0   ID       42 non-null     int64  \n",
      " 1   Humedad  42 non-null     float64\n",
      " 2   Fecha    42 non-null     object \n",
      "dtypes: float64(1), int64(1), object(1)\n",
      "memory usage: 1.1+ KB\n"
     ]
    }
   ],
   "source": [
    "datos_tierra.info()"
   ]
  },
  {
   "cell_type": "markdown",
   "id": "convinced-annual",
   "metadata": {},
   "source": [
    "###  Dataframe.describe\n",
    "Podemos calcular algunas estadísticas básica de todos los datos en una columna usando el siguiente comando"
   ]
  },
  {
   "cell_type": "code",
   "execution_count": 31,
   "id": "ignored-motor",
   "metadata": {},
   "outputs": [
    {
     "data": {
      "text/html": [
       "<div>\n",
       "<style scoped>\n",
       "    .dataframe tbody tr th:only-of-type {\n",
       "        vertical-align: middle;\n",
       "    }\n",
       "\n",
       "    .dataframe tbody tr th {\n",
       "        vertical-align: top;\n",
       "    }\n",
       "\n",
       "    .dataframe thead th {\n",
       "        text-align: right;\n",
       "    }\n",
       "</style>\n",
       "<table border=\"1\" class=\"dataframe\">\n",
       "  <thead>\n",
       "    <tr style=\"text-align: right;\">\n",
       "      <th></th>\n",
       "      <th>ID</th>\n",
       "      <th>Humedad</th>\n",
       "      <th>Temperatura</th>\n",
       "      <th>Aire</th>\n",
       "    </tr>\n",
       "  </thead>\n",
       "  <tbody>\n",
       "    <tr>\n",
       "      <th>count</th>\n",
       "      <td>42.000000</td>\n",
       "      <td>42.000000</td>\n",
       "      <td>42.000000</td>\n",
       "      <td>42.000000</td>\n",
       "    </tr>\n",
       "    <tr>\n",
       "      <th>mean</th>\n",
       "      <td>33.547619</td>\n",
       "      <td>35.402381</td>\n",
       "      <td>32.385714</td>\n",
       "      <td>15.428571</td>\n",
       "    </tr>\n",
       "    <tr>\n",
       "      <th>std</th>\n",
       "      <td>13.697431</td>\n",
       "      <td>1.222849</td>\n",
       "      <td>7.075743</td>\n",
       "      <td>13.148575</td>\n",
       "    </tr>\n",
       "    <tr>\n",
       "      <th>min</th>\n",
       "      <td>9.000000</td>\n",
       "      <td>32.500000</td>\n",
       "      <td>22.000000</td>\n",
       "      <td>10.000000</td>\n",
       "    </tr>\n",
       "    <tr>\n",
       "      <th>25%</th>\n",
       "      <td>24.250000</td>\n",
       "      <td>34.600000</td>\n",
       "      <td>29.500000</td>\n",
       "      <td>10.000000</td>\n",
       "    </tr>\n",
       "    <tr>\n",
       "      <th>50%</th>\n",
       "      <td>34.500000</td>\n",
       "      <td>35.400000</td>\n",
       "      <td>30.800000</td>\n",
       "      <td>10.000000</td>\n",
       "    </tr>\n",
       "    <tr>\n",
       "      <th>75%</th>\n",
       "      <td>44.750000</td>\n",
       "      <td>35.800000</td>\n",
       "      <td>32.125000</td>\n",
       "      <td>11.000000</td>\n",
       "    </tr>\n",
       "    <tr>\n",
       "      <th>max</th>\n",
       "      <td>55.000000</td>\n",
       "      <td>38.800000</td>\n",
       "      <td>65.000000</td>\n",
       "      <td>66.000000</td>\n",
       "    </tr>\n",
       "  </tbody>\n",
       "</table>\n",
       "</div>"
      ],
      "text/plain": [
       "              ID    Humedad  Temperatura       Aire\n",
       "count  42.000000  42.000000    42.000000  42.000000\n",
       "mean   33.547619  35.402381    32.385714  15.428571\n",
       "std    13.697431   1.222849     7.075743  13.148575\n",
       "min     9.000000  32.500000    22.000000  10.000000\n",
       "25%    24.250000  34.600000    29.500000  10.000000\n",
       "50%    34.500000  35.400000    30.800000  10.000000\n",
       "75%    44.750000  35.800000    32.125000  11.000000\n",
       "max    55.000000  38.800000    65.000000  66.000000"
      ]
     },
     "execution_count": 31,
     "metadata": {},
     "output_type": "execute_result"
    }
   ],
   "source": [
    "datos_campo.describe()"
   ]
  },
  {
   "cell_type": "code",
   "execution_count": 32,
   "id": "automated-specification",
   "metadata": {},
   "outputs": [
    {
     "data": {
      "text/html": [
       "<div>\n",
       "<style scoped>\n",
       "    .dataframe tbody tr th:only-of-type {\n",
       "        vertical-align: middle;\n",
       "    }\n",
       "\n",
       "    .dataframe tbody tr th {\n",
       "        vertical-align: top;\n",
       "    }\n",
       "\n",
       "    .dataframe thead th {\n",
       "        text-align: right;\n",
       "    }\n",
       "</style>\n",
       "<table border=\"1\" class=\"dataframe\">\n",
       "  <thead>\n",
       "    <tr style=\"text-align: right;\">\n",
       "      <th></th>\n",
       "      <th>ID</th>\n",
       "      <th>Humedad</th>\n",
       "    </tr>\n",
       "  </thead>\n",
       "  <tbody>\n",
       "    <tr>\n",
       "      <th>count</th>\n",
       "      <td>42.000000</td>\n",
       "      <td>42.000000</td>\n",
       "    </tr>\n",
       "    <tr>\n",
       "      <th>mean</th>\n",
       "      <td>21.500000</td>\n",
       "      <td>48.816667</td>\n",
       "    </tr>\n",
       "    <tr>\n",
       "      <th>std</th>\n",
       "      <td>12.267844</td>\n",
       "      <td>15.178449</td>\n",
       "    </tr>\n",
       "    <tr>\n",
       "      <th>min</th>\n",
       "      <td>1.000000</td>\n",
       "      <td>10.400000</td>\n",
       "    </tr>\n",
       "    <tr>\n",
       "      <th>25%</th>\n",
       "      <td>11.250000</td>\n",
       "      <td>38.325000</td>\n",
       "    </tr>\n",
       "    <tr>\n",
       "      <th>50%</th>\n",
       "      <td>21.500000</td>\n",
       "      <td>50.300000</td>\n",
       "    </tr>\n",
       "    <tr>\n",
       "      <th>75%</th>\n",
       "      <td>31.750000</td>\n",
       "      <td>60.475000</td>\n",
       "    </tr>\n",
       "    <tr>\n",
       "      <th>max</th>\n",
       "      <td>42.000000</td>\n",
       "      <td>70.500000</td>\n",
       "    </tr>\n",
       "  </tbody>\n",
       "</table>\n",
       "</div>"
      ],
      "text/plain": [
       "              ID    Humedad\n",
       "count  42.000000  42.000000\n",
       "mean   21.500000  48.816667\n",
       "std    12.267844  15.178449\n",
       "min     1.000000  10.400000\n",
       "25%    11.250000  38.325000\n",
       "50%    21.500000  50.300000\n",
       "75%    31.750000  60.475000\n",
       "max    42.000000  70.500000"
      ]
     },
     "execution_count": 32,
     "metadata": {},
     "output_type": "execute_result"
    }
   ],
   "source": [
    "datos_tierra.describe()"
   ]
  },
  {
   "cell_type": "markdown",
   "id": "introductory-administrator",
   "metadata": {},
   "source": [
    " Compute the correlation between two Series."
   ]
  },
  {
   "cell_type": "code",
   "execution_count": 39,
   "id": "postal-raleigh",
   "metadata": {},
   "outputs": [
    {
     "data": {
      "text/html": [
       "<div>\n",
       "<style scoped>\n",
       "    .dataframe tbody tr th:only-of-type {\n",
       "        vertical-align: middle;\n",
       "    }\n",
       "\n",
       "    .dataframe tbody tr th {\n",
       "        vertical-align: top;\n",
       "    }\n",
       "\n",
       "    .dataframe thead th {\n",
       "        text-align: right;\n",
       "    }\n",
       "</style>\n",
       "<table border=\"1\" class=\"dataframe\">\n",
       "  <thead>\n",
       "    <tr style=\"text-align: right;\">\n",
       "      <th></th>\n",
       "      <th>ID</th>\n",
       "      <th>Humedad</th>\n",
       "      <th>Temperatura</th>\n",
       "      <th>Aire</th>\n",
       "    </tr>\n",
       "  </thead>\n",
       "  <tbody>\n",
       "    <tr>\n",
       "      <th>ID</th>\n",
       "      <td>1.000000</td>\n",
       "      <td>-0.074343</td>\n",
       "      <td>-0.442553</td>\n",
       "      <td>-0.614132</td>\n",
       "    </tr>\n",
       "    <tr>\n",
       "      <th>Humedad</th>\n",
       "      <td>-0.074343</td>\n",
       "      <td>1.000000</td>\n",
       "      <td>0.027488</td>\n",
       "      <td>0.251138</td>\n",
       "    </tr>\n",
       "    <tr>\n",
       "      <th>Temperatura</th>\n",
       "      <td>-0.442553</td>\n",
       "      <td>0.027488</td>\n",
       "      <td>1.000000</td>\n",
       "      <td>0.522289</td>\n",
       "    </tr>\n",
       "    <tr>\n",
       "      <th>Aire</th>\n",
       "      <td>-0.614132</td>\n",
       "      <td>0.251138</td>\n",
       "      <td>0.522289</td>\n",
       "      <td>1.000000</td>\n",
       "    </tr>\n",
       "  </tbody>\n",
       "</table>\n",
       "</div>"
      ],
      "text/plain": [
       "                   ID   Humedad  Temperatura      Aire\n",
       "ID           1.000000 -0.074343    -0.442553 -0.614132\n",
       "Humedad     -0.074343  1.000000     0.027488  0.251138\n",
       "Temperatura -0.442553  0.027488     1.000000  0.522289\n",
       "Aire        -0.614132  0.251138     0.522289  1.000000"
      ]
     },
     "execution_count": 39,
     "metadata": {},
     "output_type": "execute_result"
    }
   ],
   "source": [
    "datos_campo.corr()"
   ]
  },
  {
   "cell_type": "code",
   "execution_count": 40,
   "id": "grave-overhead",
   "metadata": {},
   "outputs": [
    {
     "data": {
      "text/html": [
       "<div>\n",
       "<style scoped>\n",
       "    .dataframe tbody tr th:only-of-type {\n",
       "        vertical-align: middle;\n",
       "    }\n",
       "\n",
       "    .dataframe tbody tr th {\n",
       "        vertical-align: top;\n",
       "    }\n",
       "\n",
       "    .dataframe thead th {\n",
       "        text-align: right;\n",
       "    }\n",
       "</style>\n",
       "<table border=\"1\" class=\"dataframe\">\n",
       "  <thead>\n",
       "    <tr style=\"text-align: right;\">\n",
       "      <th></th>\n",
       "      <th>ID</th>\n",
       "      <th>Humedad</th>\n",
       "    </tr>\n",
       "  </thead>\n",
       "  <tbody>\n",
       "    <tr>\n",
       "      <th>ID</th>\n",
       "      <td>1.000000</td>\n",
       "      <td>0.012476</td>\n",
       "    </tr>\n",
       "    <tr>\n",
       "      <th>Humedad</th>\n",
       "      <td>0.012476</td>\n",
       "      <td>1.000000</td>\n",
       "    </tr>\n",
       "  </tbody>\n",
       "</table>\n",
       "</div>"
      ],
      "text/plain": [
       "               ID   Humedad\n",
       "ID       1.000000  0.012476\n",
       "Humedad  0.012476  1.000000"
      ]
     },
     "execution_count": 40,
     "metadata": {},
     "output_type": "execute_result"
    }
   ],
   "source": [
    "datos_tierra.corr()"
   ]
  },
  {
   "cell_type": "code",
   "execution_count": 33,
   "id": "square-fundamentals",
   "metadata": {},
   "outputs": [
    {
     "data": {
      "text/html": [
       "<div>\n",
       "<style scoped>\n",
       "    .dataframe tbody tr th:only-of-type {\n",
       "        vertical-align: middle;\n",
       "    }\n",
       "\n",
       "    .dataframe tbody tr th {\n",
       "        vertical-align: top;\n",
       "    }\n",
       "\n",
       "    .dataframe thead th {\n",
       "        text-align: right;\n",
       "    }\n",
       "</style>\n",
       "<table border=\"1\" class=\"dataframe\">\n",
       "  <thead>\n",
       "    <tr style=\"text-align: right;\">\n",
       "      <th></th>\n",
       "      <th>Humedad</th>\n",
       "      <th>Temperatura</th>\n",
       "      <th>Aire</th>\n",
       "    </tr>\n",
       "  </thead>\n",
       "  <tbody>\n",
       "    <tr>\n",
       "      <th>0</th>\n",
       "      <td>34.9</td>\n",
       "      <td>34.0</td>\n",
       "      <td>26.0</td>\n",
       "    </tr>\n",
       "    <tr>\n",
       "      <th>1</th>\n",
       "      <td>35.7</td>\n",
       "      <td>22.0</td>\n",
       "      <td>44.0</td>\n",
       "    </tr>\n",
       "    <tr>\n",
       "      <th>2</th>\n",
       "      <td>34.6</td>\n",
       "      <td>46.0</td>\n",
       "      <td>34.0</td>\n",
       "    </tr>\n",
       "    <tr>\n",
       "      <th>3</th>\n",
       "      <td>35.4</td>\n",
       "      <td>43.0</td>\n",
       "      <td>54.0</td>\n",
       "    </tr>\n",
       "    <tr>\n",
       "      <th>4</th>\n",
       "      <td>35.3</td>\n",
       "      <td>65.0</td>\n",
       "      <td>23.0</td>\n",
       "    </tr>\n",
       "  </tbody>\n",
       "</table>\n",
       "</div>"
      ],
      "text/plain": [
       "   Humedad  Temperatura  Aire\n",
       "0     34.9         34.0  26.0\n",
       "1     35.7         22.0  44.0\n",
       "2     34.6         46.0  34.0\n",
       "3     35.4         43.0  54.0\n",
       "4     35.3         65.0  23.0"
      ]
     },
     "execution_count": 33,
     "metadata": {},
     "output_type": "execute_result"
    }
   ],
   "source": [
    "relacion_campo = datos_campo[['Humedad','Temperatura','Aire']]\n",
    "relacion_campo.head(5)"
   ]
  },
  {
   "cell_type": "markdown",
   "id": "addressed-emission",
   "metadata": {},
   "source": [
    "###  Relacion de humedad, temperatura y aire"
   ]
  },
  {
   "cell_type": "code",
   "execution_count": 35,
   "id": "impressed-fraud",
   "metadata": {},
   "outputs": [
    {
     "data": {
      "image/png": "[encoded data removed]",
      "text/plain": [
       "<Figure size 540x540 with 12 Axes>"
      ]
     },
     "metadata": {
      "needs_background": "light"
     },
     "output_type": "display_data"
    }
   ],
   "source": [
    "sns.pairplot(relacion_campo, kind='reg')\n",
    "plt.show()"
   ]
  },
  {
   "cell_type": "markdown",
   "id": "impossible-freeware",
   "metadata": {},
   "source": [
    "###  Humedad del entorno"
   ]
  },
  {
   "cell_type": "code",
   "execution_count": 36,
   "id": "incoming-quebec",
   "metadata": {},
   "outputs": [
    {
     "data": {
      "text/plain": [
       "<matplotlib.axes._subplots.AxesSubplot at 0x7fad4f29dbe0>"
      ]
     },
     "execution_count": 36,
     "metadata": {},
     "output_type": "execute_result"
    },
    {
     "data": {
      "image/png": "[encoded data removed]",
      "text/plain": [
       "<Figure size 432x288 with 1 Axes>"
      ]
     },
     "metadata": {
      "needs_background": "light"
     },
     "output_type": "display_data"
    }
   ],
   "source": [
    "sns. distplot(datos_campo.Humedad)"
   ]
  },
  {
   "cell_type": "markdown",
   "id": "joint-limitation",
   "metadata": {},
   "source": [
    "###  Temperatura del entorno"
   ]
  },
  {
   "cell_type": "code",
   "execution_count": 37,
   "id": "complimentary-withdrawal",
   "metadata": {},
   "outputs": [
    {
     "data": {
      "text/plain": [
       "<matplotlib.axes._subplots.AxesSubplot at 0x7fad4f261898>"
      ]
     },
     "execution_count": 37,
     "metadata": {},
     "output_type": "execute_result"
    },
    {
     "data": {
      "image/png": "[encoded data removed]",
      "text/plain": [
       "<Figure size 432x288 with 1 Axes>"
      ]
     },
     "metadata": {
      "needs_background": "light"
     },
     "output_type": "display_data"
    }
   ],
   "source": [
    "sns. distplot(datos_campo.Temperatura)"
   ]
  },
  {
   "cell_type": "markdown",
   "id": "former-publisher",
   "metadata": {},
   "source": [
    "###  Calidad de aire del entorno"
   ]
  },
  {
   "cell_type": "code",
   "execution_count": 38,
   "id": "minus-constitutional",
   "metadata": {},
   "outputs": [
    {
     "data": {
      "text/plain": [
       "<matplotlib.axes._subplots.AxesSubplot at 0x7fad4f4daf98>"
      ]
     },
     "execution_count": 38,
     "metadata": {},
     "output_type": "execute_result"
    },
    {
     "data": {
      "image/png": "[encoded data removed]",
      "text/plain": [
       "<Figure size 432x288 with 1 Axes>"
      ]
     },
     "metadata": {
      "needs_background": "light"
     },
     "output_type": "display_data"
    }
   ],
   "source": [
    "sns. distplot(datos_campo.Aire)"
   ]
  },
  {
   "cell_type": "markdown",
   "id": "vocational-aruba",
   "metadata": {},
   "source": [
    "###  Humedad de la tierra"
   ]
  },
  {
   "cell_type": "code",
   "execution_count": 62,
   "id": "compressed-november",
   "metadata": {},
   "outputs": [
    {
     "data": {
      "text/plain": [
       "<matplotlib.axes._subplots.AxesSubplot at 0x7fad57665f98>"
      ]
     },
     "execution_count": 62,
     "metadata": {},
     "output_type": "execute_result"
    },
    {
     "data": {
      "image/png": "[encoded data removed]",
      "text/plain": [
       "<Figure size 432x288 with 1 Axes>"
      ]
     },
     "metadata": {
      "needs_background": "light"
     },
     "output_type": "display_data"
    }
   ],
   "source": [
    "sns. distplot(datos_tierra.Humedad)\n"
   ]
  },
  {
   "cell_type": "code",
   "execution_count": 43,
   "id": "chubby-petite",
   "metadata": {},
   "outputs": [
    {
     "data": {
      "text/plain": [
       "28.4    3\n",
       "32.3    2\n",
       "30.3    2\n",
       "31.4    2\n",
       "31.6    2\n",
       "30.5    2\n",
       "29.5    2\n",
       "31.5    2\n",
       "45.0    2\n",
       "30.8    2\n",
       "32.5    1\n",
       "65.0    1\n",
       "28.5    1\n",
       "43.0    1\n",
       "46.0    1\n",
       "22.0    1\n",
       "28.3    1\n",
       "31.3    1\n",
       "27.6    1\n",
       "29.6    1\n",
       "29.4    1\n",
       "29.8    1\n",
       "30.4    1\n",
       "30.9    1\n",
       "31.1    1\n",
       "24.7    1\n",
       "27.8    1\n",
       "33.9    1\n",
       "32.7    1\n",
       "30.7    1\n",
       "34.0    1\n",
       "Name: Temperatura, dtype: int64"
      ]
     },
     "execution_count": 43,
     "metadata": {},
     "output_type": "execute_result"
    }
   ],
   "source": [
    "item_counts = datos_campo[\"Temperatura\"].value_counts()\n",
    "item_counts"
   ]
  },
  {
   "cell_type": "code",
   "execution_count": null,
   "id": "sealed-heaven",
   "metadata": {},
   "outputs": [],
   "source": []
  }
 ],
 "metadata": {
  "kernelspec": {
   "display_name": "conda_python3",
   "language": "python",
   "name": "conda_python3"
  },
  "language_info": {
   "codemirror_mode": {
    "name": "ipython",
    "version": 3
   },
   "file_extension": ".py",
   "mimetype": "text/x-python",
   "name": "python",
   "nbconvert_exporter": "python",
   "pygments_lexer": "ipython3",
   "version": "3.6.10"
  }
 },
 "nbformat": 4,
 "nbformat_minor": 5
}
