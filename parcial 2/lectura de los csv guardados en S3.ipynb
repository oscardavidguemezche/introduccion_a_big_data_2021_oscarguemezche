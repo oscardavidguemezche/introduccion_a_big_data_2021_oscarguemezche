{
 "cells": [
  {
   "cell_type": "markdown",
   "id": "laughing-trinidad",
   "metadata": {},
   "source": [
    "###  Instalacion de wordcloud\n"
   ]
  },
  {
   "cell_type": "code",
   "execution_count": 28,
   "id": "ideal-england",
   "metadata": {},
   "outputs": [
    {
     "name": "stdout",
     "output_type": "stream",
     "text": [
      "Collecting wordcloud\n",
      "  Downloading wordcloud-1.8.1-cp36-cp36m-manylinux1_x86_64.whl (366 kB)\n",
      "\u001b[K     |████████████████████████████████| 366 kB 23.5 MB/s eta 0:00:01\n",
      "\u001b[?25hRequirement already satisfied: pillow in /home/ec2-user/anaconda3/envs/python3/lib/python3.6/site-packages (from wordcloud) (7.2.0)\n",
      "Requirement already satisfied: numpy>=1.6.1 in /home/ec2-user/anaconda3/envs/python3/lib/python3.6/site-packages (from wordcloud) (1.19.5)\n",
      "Requirement already satisfied: matplotlib in /home/ec2-user/anaconda3/envs/python3/lib/python3.6/site-packages (from wordcloud) (3.1.3)\n",
      "Requirement already satisfied: kiwisolver>=1.0.1 in /home/ec2-user/anaconda3/envs/python3/lib/python3.6/site-packages (from matplotlib->wordcloud) (1.1.0)\n",
      "Requirement already satisfied: cycler>=0.10 in /home/ec2-user/anaconda3/envs/python3/lib/python3.6/site-packages (from matplotlib->wordcloud) (0.10.0)\n",
      "Requirement already satisfied: python-dateutil>=2.1 in /home/ec2-user/anaconda3/envs/python3/lib/python3.6/site-packages (from matplotlib->wordcloud) (2.8.1)\n",
      "Requirement already satisfied: pyparsing!=2.0.4,!=2.1.2,!=2.1.6,>=2.0.1 in /home/ec2-user/anaconda3/envs/python3/lib/python3.6/site-packages (from matplotlib->wordcloud) (2.4.7)\n",
      "Requirement already satisfied: six in /home/ec2-user/anaconda3/envs/python3/lib/python3.6/site-packages (from cycler>=0.10->matplotlib->wordcloud) (1.15.0)\n",
      "Requirement already satisfied: setuptools in /home/ec2-user/anaconda3/envs/python3/lib/python3.6/site-packages (from kiwisolver>=1.0.1->matplotlib->wordcloud) (51.1.2)\n",
      "Installing collected packages: wordcloud\n",
      "Successfully installed wordcloud-1.8.1\n",
      "\u001b[33mWARNING: You are using pip version 20.3.3; however, version 21.0.1 is available.\n",
      "You should consider upgrading via the '/home/ec2-user/anaconda3/envs/python3/bin/python -m pip install --upgrade pip' command.\u001b[0m\n",
      "Note: you may need to restart the kernel to use updated packages.\n"
     ]
    }
   ],
   "source": [
    "pip install wordcloud"
   ]
  },
  {
   "cell_type": "markdown",
   "id": "distributed-wisdom",
   "metadata": {},
   "source": [
    "###  instalacion de textblob"
   ]
  },
  {
   "cell_type": "code",
   "execution_count": 29,
   "id": "visible-technology",
   "metadata": {},
   "outputs": [
    {
     "name": "stdout",
     "output_type": "stream",
     "text": [
      "Collecting textblob\n",
      "  Downloading textblob-0.15.3-py2.py3-none-any.whl (636 kB)\n",
      "\u001b[K     |████████████████████████████████| 636 kB 27.1 MB/s eta 0:00:01\n",
      "\u001b[?25hRequirement already satisfied: nltk>=3.1 in /home/ec2-user/anaconda3/envs/python3/lib/python3.6/site-packages (from textblob) (3.4.5)\n",
      "Requirement already satisfied: six in /home/ec2-user/anaconda3/envs/python3/lib/python3.6/site-packages (from nltk>=3.1->textblob) (1.15.0)\n",
      "Installing collected packages: textblob\n",
      "Successfully installed textblob-0.15.3\n",
      "\u001b[33mWARNING: You are using pip version 20.3.3; however, version 21.0.1 is available.\n",
      "You should consider upgrading via the '/home/ec2-user/anaconda3/envs/python3/bin/python -m pip install --upgrade pip' command.\u001b[0m\n",
      "Note: you may need to restart the kernel to use updated packages.\n"
     ]
    }
   ],
   "source": [
    "pip install textblob"
   ]
  },
  {
   "cell_type": "markdown",
   "id": "conservative-married",
   "metadata": {},
   "source": [
    "###  instalacion de pymysql\n",
    "pymysql es un paquete para la interacción con bases de datos MySQL escrito completamente en Python, a diferencia de su principal "
   ]
  },
  {
   "cell_type": "code",
   "execution_count": 3,
   "id": "friendly-burton",
   "metadata": {},
   "outputs": [
    {
     "name": "stdout",
     "output_type": "stream",
     "text": [
      "Collecting pymysql\n",
      "  Downloading PyMySQL-1.0.2-py3-none-any.whl (43 kB)\n",
      "\u001b[K     |████████████████████████████████| 43 kB 3.4 MB/s  eta 0:00:01\n",
      "\u001b[?25hInstalling collected packages: pymysql\n",
      "Successfully installed pymysql-1.0.2\n",
      "\u001b[33mWARNING: You are using pip version 20.3.3; however, version 21.0.1 is available.\n",
      "You should consider upgrading via the '/home/ec2-user/anaconda3/envs/python3/bin/python -m pip install --upgrade pip' command.\u001b[0m\n",
      "Note: you may need to restart the kernel to use updated packages.\n"
     ]
    }
   ],
   "source": [
    "pip install pymysql"
   ]
  },
  {
   "cell_type": "code",
   "execution_count": 72,
   "id": "operational-shell",
   "metadata": {},
   "outputs": [],
   "source": [
    "import pymysql\n",
    "import pandas as pa\n",
    "import matplotlib.pyplot as plt\n",
    "%matplotlib inline  \n",
    "from io import StringIO  \n",
    "import boto3"
   ]
  },
  {
   "cell_type": "markdown",
   "id": "discrete-audio",
   "metadata": {},
   "source": [
    "###  Conexion a BD"
   ]
  },
  {
   "cell_type": "code",
   "execution_count": 73,
   "id": "permanent-leone",
   "metadata": {},
   "outputs": [],
   "source": [
    "\n",
    "\n",
    "conn=pymysql.connect(host='greeplace.mysql.database.azure.com',port=int(3306),user='greeplace@greeplace',passwd='Casayork123',db='greeplace')\n",
    "\n",
    "dc=a.read_sql_query(\"select * from datoscampo; \",conn)\n",
    "dt=a.read_sql_query(\"select * from datostierra; \",conn)\n",
    "\n"
   ]
  },
  {
   "cell_type": "markdown",
   "id": "internal-neighbor",
   "metadata": {},
   "source": [
    "###  Columnas de las tablas"
   ]
  },
  {
   "cell_type": "code",
   "execution_count": 74,
   "id": "stock-objective",
   "metadata": {},
   "outputs": [
    {
     "data": {
      "text/plain": [
       "Index(['iddatos', 'humedad', 'temperatura', 'aire', 'fecha', '_idcampo',\n",
       "       '_usuario_idusuario'],\n",
       "      dtype='object')"
      ]
     },
     "execution_count": 74,
     "metadata": {},
     "output_type": "execute_result"
    }
   ],
   "source": [
    "dc.columns\n",
    "\n"
   ]
  },
  {
   "cell_type": "code",
   "execution_count": 75,
   "id": "posted-burns",
   "metadata": {},
   "outputs": [
    {
     "data": {
      "text/plain": [
       "Index(['iddatostierra', 'humedadtierra', 'fecha', '_idcampo',\n",
       "       '_usuario_idusuario'],\n",
       "      dtype='object')"
      ]
     },
     "execution_count": 75,
     "metadata": {},
     "output_type": "execute_result"
    }
   ],
   "source": [
    "dt.columns"
   ]
  },
  {
   "cell_type": "markdown",
   "id": "digital-spread",
   "metadata": {},
   "source": [
    "###  Quitar las columnas innecesarias"
   ]
  },
  {
   "cell_type": "code",
   "execution_count": 76,
   "id": "going-damage",
   "metadata": {
    "scrolled": true
   },
   "outputs": [],
   "source": [
    "columns = ['_idcampo', '_usuario_idusuario']\n",
    " \n",
    "datos_campo = pa.DataFrame(dc.drop(columns,axis=1,inplace=False))\n",
    "\n"
   ]
  },
  {
   "cell_type": "code",
   "execution_count": 77,
   "id": "assured-entry",
   "metadata": {},
   "outputs": [],
   "source": [
    "columns = ['_idcampo', '_usuario_idusuario']\n",
    " \n",
    "datos_tierra = pa.DataFrame(dt.drop(columns,axis=1,inplace=False))\n"
   ]
  },
  {
   "cell_type": "markdown",
   "id": "addressed-dryer",
   "metadata": {},
   "source": [
    "###  Renombrar las columnas"
   ]
  },
  {
   "cell_type": "code",
   "execution_count": 78,
   "id": "married-congress",
   "metadata": {},
   "outputs": [],
   "source": [
    "datos_campo = datos_campo.rename(columns={'iddatos':'ID',\n",
    "                        'humedad':'Humedad',\n",
    "                       'temperatura':'Temperatura',\n",
    "                       'aire':'Aire',\n",
    "                       'fecha':'Fecha',})"
   ]
  },
  {
   "cell_type": "code",
   "execution_count": 79,
   "id": "forbidden-opinion",
   "metadata": {},
   "outputs": [],
   "source": [
    "datos_tierra = datos_tierra.rename(columns={'iddatostierra':'ID',\n",
    "                        'humedadtierra':'Humedad',\n",
    "                       \n",
    "                       'fecha':'Fecha',})"
   ]
  },
  {
   "cell_type": "markdown",
   "id": "interstate-acceptance",
   "metadata": {},
   "source": [
    "###  Mostramos datos"
   ]
  },
  {
   "cell_type": "code",
   "execution_count": 80,
   "id": "patient-connectivity",
   "metadata": {},
   "outputs": [
    {
     "data": {
      "text/html": [
       "<div>\n",
       "<style scoped>\n",
       "    .dataframe tbody tr th:only-of-type {\n",
       "        vertical-align: middle;\n",
       "    }\n",
       "\n",
       "    .dataframe tbody tr th {\n",
       "        vertical-align: top;\n",
       "    }\n",
       "\n",
       "    .dataframe thead th {\n",
       "        text-align: right;\n",
       "    }\n",
       "</style>\n",
       "<table border=\"1\" class=\"dataframe\">\n",
       "  <thead>\n",
       "    <tr style=\"text-align: right;\">\n",
       "      <th></th>\n",
       "      <th>ID</th>\n",
       "      <th>Humedad</th>\n",
       "      <th>Temperatura</th>\n",
       "      <th>Aire</th>\n",
       "      <th>Fecha</th>\n",
       "    </tr>\n",
       "  </thead>\n",
       "  <tbody>\n",
       "    <tr>\n",
       "      <th>0</th>\n",
       "      <td>9</td>\n",
       "      <td>34.9</td>\n",
       "      <td>34.0</td>\n",
       "      <td>26.0</td>\n",
       "      <td>2021-01-18 08:34:24</td>\n",
       "    </tr>\n",
       "    <tr>\n",
       "      <th>1</th>\n",
       "      <td>10</td>\n",
       "      <td>35.7</td>\n",
       "      <td>22.0</td>\n",
       "      <td>44.0</td>\n",
       "      <td>2021-01-18 10:34:24</td>\n",
       "    </tr>\n",
       "    <tr>\n",
       "      <th>2</th>\n",
       "      <td>11</td>\n",
       "      <td>34.6</td>\n",
       "      <td>46.0</td>\n",
       "      <td>34.0</td>\n",
       "      <td>2021-01-18 12:34:24</td>\n",
       "    </tr>\n",
       "    <tr>\n",
       "      <th>3</th>\n",
       "      <td>12</td>\n",
       "      <td>35.4</td>\n",
       "      <td>43.0</td>\n",
       "      <td>54.0</td>\n",
       "      <td>2021-01-18 14:32:24</td>\n",
       "    </tr>\n",
       "    <tr>\n",
       "      <th>4</th>\n",
       "      <td>13</td>\n",
       "      <td>35.3</td>\n",
       "      <td>65.0</td>\n",
       "      <td>23.0</td>\n",
       "      <td>2021-01-18 16:34:24</td>\n",
       "    </tr>\n",
       "  </tbody>\n",
       "</table>\n",
       "</div>"
      ],
      "text/plain": [
       "   ID  Humedad  Temperatura  Aire               Fecha\n",
       "0   9     34.9         34.0  26.0 2021-01-18 08:34:24\n",
       "1  10     35.7         22.0  44.0 2021-01-18 10:34:24\n",
       "2  11     34.6         46.0  34.0 2021-01-18 12:34:24\n",
       "3  12     35.4         43.0  54.0 2021-01-18 14:32:24\n",
       "4  13     35.3         65.0  23.0 2021-01-18 16:34:24"
      ]
     },
     "execution_count": 80,
     "metadata": {},
     "output_type": "execute_result"
    }
   ],
   "source": [
    "datos_campo.head(5)"
   ]
  },
  {
   "cell_type": "code",
   "execution_count": 81,
   "id": "binary-madagascar",
   "metadata": {},
   "outputs": [
    {
     "data": {
      "text/html": [
       "<div>\n",
       "<style scoped>\n",
       "    .dataframe tbody tr th:only-of-type {\n",
       "        vertical-align: middle;\n",
       "    }\n",
       "\n",
       "    .dataframe tbody tr th {\n",
       "        vertical-align: top;\n",
       "    }\n",
       "\n",
       "    .dataframe thead th {\n",
       "        text-align: right;\n",
       "    }\n",
       "</style>\n",
       "<table border=\"1\" class=\"dataframe\">\n",
       "  <thead>\n",
       "    <tr style=\"text-align: right;\">\n",
       "      <th></th>\n",
       "      <th>ID</th>\n",
       "      <th>Humedad</th>\n",
       "      <th>Fecha</th>\n",
       "    </tr>\n",
       "  </thead>\n",
       "  <tbody>\n",
       "    <tr>\n",
       "      <th>0</th>\n",
       "      <td>1</td>\n",
       "      <td>34.9</td>\n",
       "      <td>2021-01-18 08:34:24</td>\n",
       "    </tr>\n",
       "    <tr>\n",
       "      <th>1</th>\n",
       "      <td>2</td>\n",
       "      <td>50.2</td>\n",
       "      <td>2021-01-18 10:34:24</td>\n",
       "    </tr>\n",
       "    <tr>\n",
       "      <th>2</th>\n",
       "      <td>3</td>\n",
       "      <td>50.3</td>\n",
       "      <td>2021-01-18 12:34:24</td>\n",
       "    </tr>\n",
       "    <tr>\n",
       "      <th>3</th>\n",
       "      <td>4</td>\n",
       "      <td>50.1</td>\n",
       "      <td>2021-01-18 14:34:24</td>\n",
       "    </tr>\n",
       "    <tr>\n",
       "      <th>4</th>\n",
       "      <td>5</td>\n",
       "      <td>50.4</td>\n",
       "      <td>2021-01-18 16:34:24</td>\n",
       "    </tr>\n",
       "  </tbody>\n",
       "</table>\n",
       "</div>"
      ],
      "text/plain": [
       "   ID  Humedad               Fecha\n",
       "0   1     34.9 2021-01-18 08:34:24\n",
       "1   2     50.2 2021-01-18 10:34:24\n",
       "2   3     50.3 2021-01-18 12:34:24\n",
       "3   4     50.1 2021-01-18 14:34:24\n",
       "4   5     50.4 2021-01-18 16:34:24"
      ]
     },
     "execution_count": 81,
     "metadata": {},
     "output_type": "execute_result"
    }
   ],
   "source": [
    "datos_tierra.head(5)"
   ]
  },
  {
   "cell_type": "markdown",
   "id": "balanced-pillow",
   "metadata": {},
   "source": [
    "###  Guardamos los datos en el bucket"
   ]
  },
  {
   "cell_type": "code",
   "execution_count": 69,
   "id": "olympic-activation",
   "metadata": {},
   "outputs": [
    {
     "data": {
      "text/plain": [
       "{'ResponseMetadata': {'RequestId': '6F44789D46054980',\n",
       "  'HostId': 'F68kymIzaBj1Yxqne31lSAPzQUEz1dgucWmftZRbsebh44PXVjE330UWSa7VGSUHTPBy4jVh2j4=',\n",
       "  'HTTPStatusCode': 200,\n",
       "  'HTTPHeaders': {'x-amz-id-2': 'F68kymIzaBj1Yxqne31lSAPzQUEz1dgucWmftZRbsebh44PXVjE330UWSa7VGSUHTPBy4jVh2j4=',\n",
       "   'x-amz-request-id': '6F44789D46054980',\n",
       "   'date': 'Wed, 17 Feb 2021 23:52:53 GMT',\n",
       "   'etag': '\"3588b9e4546593a8d5e9c8fe37d45628\"',\n",
       "   'content-length': '0',\n",
       "   'server': 'AmazonS3'},\n",
       "  'RetryAttempts': 0},\n",
       " 'ETag': '\"3588b9e4546593a8d5e9c8fe37d45628\"'}"
      ]
     },
     "execution_count": 69,
     "metadata": {},
     "output_type": "execute_result"
    }
   ],
   "source": [
    "bucket = 'testutmdavidguemez' \n",
    "csv_buffer = StringIO()\n",
    "datos_campo.to_csv(csv_buffer)\n",
    "s3_resource = boto3.resource('s3')\n",
    "s3_resource.Object(bucket, 'datoscampo.csv').put(Body=csv_buffer.getvalue())"
   ]
  },
  {
   "cell_type": "code",
   "execution_count": 71,
   "id": "innovative-protocol",
   "metadata": {},
   "outputs": [
    {
     "data": {
      "text/plain": [
       "{'ResponseMetadata': {'RequestId': 'E4F069CC935EEF31',\n",
       "  'HostId': '9Th+JvjSovI6FUtTfrvzPV7TxH5164rRXZTMkBlPNSqY6teaqhqIVF8/0++JXWCg3FqNi2tyqCs=',\n",
       "  'HTTPStatusCode': 200,\n",
       "  'HTTPHeaders': {'x-amz-id-2': '9Th+JvjSovI6FUtTfrvzPV7TxH5164rRXZTMkBlPNSqY6teaqhqIVF8/0++JXWCg3FqNi2tyqCs=',\n",
       "   'x-amz-request-id': 'E4F069CC935EEF31',\n",
       "   'date': 'Wed, 17 Feb 2021 23:54:57 GMT',\n",
       "   'etag': '\"13798850a87a48540f28470c294122cf\"',\n",
       "   'content-length': '0',\n",
       "   'server': 'AmazonS3'},\n",
       "  'RetryAttempts': 0},\n",
       " 'ETag': '\"13798850a87a48540f28470c294122cf\"'}"
      ]
     },
     "execution_count": 71,
     "metadata": {},
     "output_type": "execute_result"
    }
   ],
   "source": [
    "bucket = 'testutmdavidguemez' \n",
    "csv_buffer = StringIO()\n",
    "datos_tierra.to_csv(csv_buffer)\n",
    "s3_resource = boto3.resource('s3')\n",
    "s3_resource.Object(bucket, 'datostierra.csv').put(Body=csv_buffer.getvalue())"
   ]
  },
  {
   "cell_type": "code",
   "execution_count": null,
   "id": "graphic-compatibility",
   "metadata": {},
   "outputs": [],
   "source": []
  }
 ],
 "metadata": {
  "kernelspec": {
   "display_name": "conda_python3",
   "language": "python",
   "name": "conda_python3"
  },
  "language_info": {
   "codemirror_mode": {
    "name": "ipython",
    "version": 3
   },
   "file_extension": ".py",
   "mimetype": "text/x-python",
   "name": "python",
   "nbconvert_exporter": "python",
   "pygments_lexer": "ipython3",
   "version": "3.6.10"
  }
 },
 "nbformat": 4,
 "nbformat_minor": 5
}
